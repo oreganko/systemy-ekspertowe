{
 "cells": [
  {
   "cell_type": "code",
   "execution_count": 1,
   "id": "southern-artwork",
   "metadata": {},
   "outputs": [],
   "source": [
    "from bs4 import BeautifulSoup\n",
    "from pgmpy.factors.discrete import TabularCPD\n",
    "from pgmpy.models import BayesianNetwork\n",
    "from pgmpy.inference import VariableElimination\n",
    "import pandas as pd"
   ]
  },
  {
   "cell_type": "code",
   "execution_count": 2,
   "id": "stupid-degree",
   "metadata": {},
   "outputs": [],
   "source": [
    "class MyCPD:\n",
    "    def __init__(self, name, states, probs, cpd_parents=None):\n",
    "        self.name = name\n",
    "        self.states = states\n",
    "        self.probs = probs\n",
    "        if cpd_parents:\n",
    "            self.parents = cpd_parents\n",
    "        else:\n",
    "            self.parents = []\n",
    "\n",
    "        for parent in self.parents:\n",
    "            parent_list.append((parent, self.name))\n",
    "\n",
    "        self.states_names = {name: states}\n",
    "\n",
    "\n",
    "def get_ev_cards(parents):\n",
    "    return [len(cpds_done[parent].states) for parent in parents]\n",
    "\n",
    "\n",
    "def get_state_names(parents, cpd: MyCPD):\n",
    "    cpd_states_names = {key: val for key, val in cpd.states_names.items()}\n",
    "    for parent in parents:\n",
    "        cpd_states_names.update(cpds_done[parent].states_names)\n",
    "    return cpd_states_names\n",
    "\n",
    "\n",
    "def parse_states(state_list):\n",
    "    return [state['id'] for state in state_list]\n",
    "\n",
    "\n",
    "def parse_parents(parents_list):\n",
    "    return parents_list.string.split()\n",
    "\n",
    "\n",
    "def parse_probabilities(states_no, probabilities):\n",
    "    probabilities = probabilities.split()\n",
    "    probs = [[] for _ in range(states_no)]\n",
    "    i = 0\n",
    "    for p in probabilities:\n",
    "        probs[i].append(float(p))\n",
    "        i = (i + 1) % states_no\n",
    "    return probs\n",
    "\n",
    "\n",
    "def parse_res_states(res_states):\n",
    "    probabilities = res_states.string.replace('Nie', '0.0')\n",
    "    probabilities = probabilities.replace('Tak', '1.0')\n",
    "    probs = [float(p) for p in probabilities.split()]\n",
    "    con_probs = [1 - p for p in probs]\n",
    "    return [probs, con_probs]\n",
    "\n",
    "\n",
    "def no_parents_cpd(cpd_form):\n",
    "    cpd_name = cpd_form['id']\n",
    "    cpd_states = parse_states(cpd_form.find_all('state'))\n",
    "    cpd_probabilities = parse_probabilities(len(cpd_states), cpd_form.probabilities.string)\n",
    "\n",
    "    cpd = MyCPD(cpd_name, cpd_states, cpd_probabilities)\n",
    "    return cpd\n",
    "\n",
    "\n",
    "def flower_nodes_cpd(cpd_form):\n",
    "    cpd_name = cpd_form['id']\n",
    "    cpd_states = parse_states(cpd_form.find_all('state'))\n",
    "    cpd_parents = parse_parents(cpd_form.parentss)\n",
    "    resulting_states = parse_res_states(cpd_form.resultingstates)\n",
    "\n",
    "    cpd = MyCPD(cpd_name, cpd_states, resulting_states, cpd_parents)\n",
    "    return cpd\n",
    "\n",
    "\n",
    "def node_with_parents(cpd_form):\n",
    "    cpd_name = cpd_form['id']\n",
    "    cpd_states = parse_states(cpd_form.find_all('state'))\n",
    "    cpd_probabilities = parse_probabilities(len(cpd_states), cpd_form.probabilities.string)\n",
    "    cpd_parents = parse_parents(cpd_form.parentss)\n",
    "\n",
    "    return MyCPD(cpd_name, cpd_states, cpd_probabilities, cpd_parents)\n",
    "\n",
    "\n",
    "def parse_cpd(cpd_form):\n",
    "    if 'deterministic' in str(cpd_form):\n",
    "        return flower_nodes_cpd(cpd_form)\n",
    "    elif 'parents' in str(cpd_form):\n",
    "        return node_with_parents(cpd_form)\n",
    "    else:\n",
    "        cdp = no_parents_cpd(cpd_form)\n",
    "        questions.append((cdp.name, cdp.states_names[cdp.name]))\n",
    "        return cdp\n"
   ]
  },
  {
   "cell_type": "code",
   "execution_count": 3,
   "id": "coastal-tennessee",
   "metadata": {},
   "outputs": [],
   "source": [
    "with open('Kwiotki.txt') as f:\n",
    "    text = f.read().replace('parents', 'parentss')\n",
    "\n",
    "soup = BeautifulSoup(text, 'html.parser')\n",
    "\n",
    "nodes = BeautifulSoup(str(soup.nodes), 'html.parser')\n",
    "cpds = nodes.findAll('cpt')\n",
    "cpds.extend(nodes.findAll('deterministic'))\n",
    "\n",
    "cpds_not_done = {}\n",
    "cpds_done = {}\n",
    "cpds_model = []\n",
    "parent_list = []\n",
    "questions = []\n",
    "\n",
    "for cpd in cpds:\n",
    "    cpds_not_done[cpd['id']] = cpd\n",
    "\n",
    "for cpd_id, cpd in cpds_not_done.items():\n",
    "    cpds_done[cpd_id] = parse_cpd(cpd)\n",
    "\n",
    "for cpd_id, cpd in cpds_done.items():\n",
    "#     print(cpd_id, cpd.name, cpd.states, cpd.parents)\n",
    "    if cpd.parents:\n",
    "        tcpd = TabularCPD(cpd.name, len(cpd.states), cpd.probs,\n",
    "                          evidence=cpd.parents, evidence_card=get_ev_cards(cpd.parents),\n",
    "                          state_names=get_state_names(cpd.parents, cpd))\n",
    "    else:\n",
    "        tcpd = TabularCPD(cpd.name, len(cpd.states), cpd.probs, state_names=cpd.states_names)\n",
    "\n",
    "    cpds_model.append(tcpd)\n",
    "\n",
    "model = BayesianNetwork(parent_list)\n",
    "model.add_cpds(*cpds_model)"
   ]
  },
  {
   "cell_type": "code",
   "execution_count": 4,
   "id": "genetic-pontiac",
   "metadata": {},
   "outputs": [
    {
     "data": {
      "text/plain": [
       "True"
      ]
     },
     "execution_count": 4,
     "metadata": {},
     "output_type": "execute_result"
    }
   ],
   "source": [
    "model.check_model()"
   ]
  },
  {
   "cell_type": "code",
   "execution_count": 128,
   "id": "genuine-advocacy",
   "metadata": {},
   "outputs": [],
   "source": [
    "\n",
    "model.check_model()\n",
    "daft = model.to_daft()\n",
    "# daft.render()"
   ]
  },
  {
   "cell_type": "code",
   "execution_count": 5,
   "id": "offensive-breast",
   "metadata": {},
   "outputs": [
    {
     "data": {
      "text/plain": [
       "[('Roślinka_ma_być_jadalna', ['Tak', 'Nie']),\n",
       " ('Lubię_naturalną_pielęgnację_ciała', ['Tak', 'Nie']),\n",
       " ('Mam_dużo_czasu', ['Tak', 'Nie']),\n",
       " ('Lubię_babrać_się_w_ziemi', ['Tak', 'Nie']),\n",
       " ('Mam_balkon', ['Tak', 'Nie']),\n",
       " ('Kwiatek_na_podłodze', ['Tak', 'Nie']),\n",
       " ('Lubię_podlewać', ['Tak', 'Nie']),\n",
       " ('Jestem_obowiązkowy', ['Tak', 'Nie']),\n",
       " ('Mam_zwierzę_wolnochodzące', ['Tak', 'Nie']),\n",
       " ('Mam_dziecko', ['Tak', 'Nie']),\n",
       " ('Jestem_alergikiem', ['Tak', 'Nie']),\n",
       " ('W_domu_jest_wysoka_wilgotność', ['Tak', 'Nie']),\n",
       " ('Mam_nawilżacz_powietrza', ['Tak', 'Nie']),\n",
       " ('Kwiatek_na_parapecie', ['Tak', 'Nie']),\n",
       " ('Strona_okna', ['Północ', 'Południe', 'Wschód', 'Zachód']),\n",
       " ('Kwitnienie', ['Całoroczne', 'Sezonowe', 'Nigdy']),\n",
       " ('Ulubione_kolory', ['Biały', 'Zielony', 'Różowy'])]"
      ]
     },
     "execution_count": 5,
     "metadata": {},
     "output_type": "execute_result"
    }
   ],
   "source": [
    "questions"
   ]
  },
  {
   "cell_type": "code",
   "execution_count": 130,
   "id": "front-wildlife",
   "metadata": {},
   "outputs": [
    {
     "name": "stdout",
     "output_type": "stream",
     "text": [
      "{\n",
      "\"Roślinka_ma_być_jadalna\": \"\",               #['Tak', 'Nie']\n",
      "\"Lubię_naturalną_pielęgnację_ciała\": \"\",               #['Tak', 'Nie']\n",
      "\"Mam_dużo_czasu\": \"\",               #['Tak', 'Nie']\n",
      "\"Lubię_babrać_się_w_ziemi\": \"\",               #['Tak', 'Nie']\n",
      "\"Mam_balkon\": \"\",               #['Tak', 'Nie']\n",
      "\"Kwiatek_na_podłodze\": \"\",               #['Tak', 'Nie']\n",
      "\"Lubię_podlewać\": \"\",               #['Tak', 'Nie']\n",
      "\"Jestem_obowiązkowy\": \"\",               #['Tak', 'Nie']\n",
      "\"Mam_zwierzę_wolnochodzące\": \"\",               #['Tak', 'Nie']\n",
      "\"Mam_dziecko\": \"\",               #['Tak', 'Nie']\n",
      "\"Jestem_alergikiem\": \"\",               #['Tak', 'Nie']\n",
      "\"W_domu_jest_wysoka_wilgotność\": \"\",               #['Tak', 'Nie']\n",
      "\"Mam_nawilżacz_powietrza\": \"\",               #['Tak', 'Nie']\n",
      "\"Kwiatek_na_parapecie\": \"\",               #['Tak', 'Nie']\n",
      "\"Strona_okna\": \"\",               #['Północ', 'Południe', 'Wschód', 'Zachód']\n",
      "\"Kwitnienie\": \"\",               #['Całoroczne', 'Sezonowe', 'Nigdy']\n",
      "\"Ulubione_kolory\": \"\",               #['Biały', 'Zielony', 'Różowy']\n",
      "}\n"
     ]
    }
   ],
   "source": [
    "print('{')\n",
    "for quest in questions:\n",
    "    print(f'\"{quest[0]}\": \"\",               #{quest[1]}')\n",
    "print('}')"
   ]
  },
  {
   "cell_type": "code",
   "execution_count": 6,
   "id": "integral-relief",
   "metadata": {},
   "outputs": [],
   "source": [
    "d_quests = {\n",
    "\"Roślinka_ma_być_jadalna\": [\"Nie\"],               #['Tak', 'Nie']\n",
    "\"Lubię_naturalną_pielęgnację_ciała\": [\"Nie\"],               #['Tak', 'Nie']\n",
    "\"Mam_dużo_czasu\": [\"Nie\"],               #['Tak', 'Nie']\n",
    "\"Lubię_babrać_się_w_ziemi\": [\"Tak\"],               #['Tak', 'Nie']\n",
    "\"Mam_balkon\": [\"Tak\"],               #['Tak', 'Nie']\n",
    "\"Kwiatek_na_podłodze\": [\"Tak\"],               #['Tak', 'Nie']\n",
    "\"Lubię_podlewać\": [\"Tak\"],               #['Tak', 'Nie']\n",
    "\"Jestem_obowiązkowy\": [\"Nie\"],               #['Tak', 'Nie']\n",
    "\"Mam_zwierzę_wolnochodzące\": [\"Tak\"],               #['Tak', 'Nie']\n",
    "\"Mam_dziecko\": [\"Tak\"],               #['Tak', 'Nie']\n",
    "\"Jestem_alergikiem\": [\"Tak\"],               #['Tak', 'Nie']\n",
    "\"W_domu_jest_wysoka_wilgotność\": [\"Nie\"],               #['Tak', 'Nie']\n",
    "\"Mam_nawilżacz_powietrza\": [\"Nie\"],               #['Tak', 'Nie']\n",
    "\"Kwiatek_na_parapecie\": [\"Nie\"],               #['Tak', 'Nie']\n",
    "\"Strona_okna\": [\"Południe\"],               #['Północ', 'Południe', 'Wschód', 'Zachód']\n",
    "\"Kwitnienie\": [\"Nigdy\"],               #['Całoroczne', 'Sezonowe', 'Nigdy']\n",
    "\"Ulubione_kolory\": [\"Zielony\"],               #['Biały', 'Zielony', 'Różowy']\n",
    "\"Kwiatek_na_balkonie\": [\"Nie\"]\n",
    "}"
   ]
  },
  {
   "cell_type": "code",
   "execution_count": 7,
   "id": "acting-writer",
   "metadata": {},
   "outputs": [],
   "source": [
    "f_quests = {\n",
    "\"Roślinka_ma_być_jadalna\": [\"Nie\"],               #['Tak', 'Nie']\n",
    "\"Lubię_naturalną_pielęgnację_ciała\": [\"Nie\"],               #['Tak', 'Nie']\n",
    "\"Mam_dużo_czasu\": [\"Nie\"],               #['Tak', 'Nie']\n",
    "\"Lubię_babrać_się_w_ziemi\": [\"Tak\"],               #['Tak', 'Nie']\n",
    "\"Mam_balkon\": [\"Tak\"],               #['Tak', 'Nie']\n",
    "\"Kwiatek_na_podłodze\": [\"Tak\"],               #['Tak', 'Nie']\n",
    "\"Lubię_podlewać\": [\"Tak\"],               #['Tak', 'Nie']\n",
    "\"Jestem_obowiązkowy\": [\"Nie\"],               #['Tak', 'Nie']\n",
    "\"Mam_zwierzę_wolnochodzące\": [\"Nie\"],               #['Tak', 'Nie']\n",
    "\"Mam_dziecko\": [\"Nie\"],               #['Tak', 'Nie']\n",
    "\"Jestem_alergikiem\": [\"Nie\"],               #['Tak', 'Nie']\n",
    "\"W_domu_jest_wysoka_wilgotność\": [\"Nie\"],               #['Tak', 'Nie']\n",
    "\"Mam_nawilżacz_powietrza\": [\"Nie\"],               #['Tak', 'Nie']\n",
    "\"Kwiatek_na_parapecie\": [\"Nie\"],               #['Tak', 'Nie']\n",
    "\"Strona_okna\": [\"Południe\"],               #['Północ', 'Południe', 'Wschód', 'Zachód']\n",
    "\"Kwitnienie\": [\"Nigdy\"],               #['Całoroczne', 'Sezonowe', 'Nigdy']\n",
    "\"Ulubione_kolory\": [\"Zielony\"],               #['Biały', 'Zielony', 'Różowy']\n",
    "\"Kwiatek_na_balkonie\": [\"Nie\"]\n",
    "}"
   ]
  },
  {
   "cell_type": "code",
   "execution_count": 8,
   "id": "industrial-windows",
   "metadata": {},
   "outputs": [],
   "source": [
    "df = pd.DataFrame.from_dict(f_quests)"
   ]
  },
  {
   "cell_type": "code",
   "execution_count": 9,
   "id": "cross-gauge",
   "metadata": {},
   "outputs": [
    {
     "data": {
      "text/html": [
       "<div>\n",
       "<style scoped>\n",
       "    .dataframe tbody tr th:only-of-type {\n",
       "        vertical-align: middle;\n",
       "    }\n",
       "\n",
       "    .dataframe tbody tr th {\n",
       "        vertical-align: top;\n",
       "    }\n",
       "\n",
       "    .dataframe thead th {\n",
       "        text-align: right;\n",
       "    }\n",
       "</style>\n",
       "<table border=\"1\" class=\"dataframe\">\n",
       "  <thead>\n",
       "    <tr style=\"text-align: right;\">\n",
       "      <th></th>\n",
       "      <th>Roślinka_ma_być_jadalna</th>\n",
       "      <th>Lubię_naturalną_pielęgnację_ciała</th>\n",
       "      <th>Mam_dużo_czasu</th>\n",
       "      <th>Lubię_babrać_się_w_ziemi</th>\n",
       "      <th>Mam_balkon</th>\n",
       "      <th>Kwiatek_na_podłodze</th>\n",
       "      <th>Lubię_podlewać</th>\n",
       "      <th>Jestem_obowiązkowy</th>\n",
       "      <th>Mam_zwierzę_wolnochodzące</th>\n",
       "      <th>Mam_dziecko</th>\n",
       "      <th>Jestem_alergikiem</th>\n",
       "      <th>W_domu_jest_wysoka_wilgotność</th>\n",
       "      <th>Mam_nawilżacz_powietrza</th>\n",
       "      <th>Kwiatek_na_parapecie</th>\n",
       "      <th>Strona_okna</th>\n",
       "      <th>Kwitnienie</th>\n",
       "      <th>Ulubione_kolory</th>\n",
       "      <th>Kwiatek_na_balkonie</th>\n",
       "    </tr>\n",
       "  </thead>\n",
       "  <tbody>\n",
       "    <tr>\n",
       "      <th>0</th>\n",
       "      <td>Nie</td>\n",
       "      <td>Nie</td>\n",
       "      <td>Nie</td>\n",
       "      <td>Tak</td>\n",
       "      <td>Tak</td>\n",
       "      <td>Tak</td>\n",
       "      <td>Tak</td>\n",
       "      <td>Nie</td>\n",
       "      <td>Nie</td>\n",
       "      <td>Nie</td>\n",
       "      <td>Nie</td>\n",
       "      <td>Nie</td>\n",
       "      <td>Nie</td>\n",
       "      <td>Nie</td>\n",
       "      <td>Południe</td>\n",
       "      <td>Nigdy</td>\n",
       "      <td>Zielony</td>\n",
       "      <td>Nie</td>\n",
       "    </tr>\n",
       "  </tbody>\n",
       "</table>\n",
       "</div>"
      ],
      "text/plain": [
       "  Roślinka_ma_być_jadalna Lubię_naturalną_pielęgnację_ciała Mam_dużo_czasu  \\\n",
       "0                     Nie                               Nie            Nie   \n",
       "\n",
       "  Lubię_babrać_się_w_ziemi Mam_balkon Kwiatek_na_podłodze Lubię_podlewać  \\\n",
       "0                      Tak        Tak                 Tak            Tak   \n",
       "\n",
       "  Jestem_obowiązkowy Mam_zwierzę_wolnochodzące Mam_dziecko Jestem_alergikiem  \\\n",
       "0                Nie                       Nie         Nie               Nie   \n",
       "\n",
       "  W_domu_jest_wysoka_wilgotność Mam_nawilżacz_powietrza Kwiatek_na_parapecie  \\\n",
       "0                           Nie                     Nie                  Nie   \n",
       "\n",
       "  Strona_okna Kwitnienie Ulubione_kolory Kwiatek_na_balkonie  \n",
       "0    Południe      Nigdy         Zielony                 Nie  "
      ]
     },
     "execution_count": 9,
     "metadata": {},
     "output_type": "execute_result"
    }
   ],
   "source": [
    "df"
   ]
  },
  {
   "cell_type": "code",
   "execution_count": 10,
   "id": "innovative-wallace",
   "metadata": {},
   "outputs": [
    {
     "data": {
      "application/vnd.jupyter.widget-view+json": {
       "model_id": "ec84e4afa4424a6b909bdcf70665e43a",
       "version_major": 2,
       "version_minor": 0
      },
      "text/plain": [
       "HBox(children=(HTML(value=''), FloatProgress(value=0.0, max=1.0), HTML(value='')))"
      ]
     },
     "metadata": {},
     "output_type": "display_data"
    },
    {
     "name": "stdout",
     "output_type": "stream",
     "text": [
      "\n"
     ]
    }
   ],
   "source": [
    "y = model.predict(df)"
   ]
  },
  {
   "cell_type": "code",
   "execution_count": 11,
   "id": "middle-classics",
   "metadata": {},
   "outputs": [
    {
     "data": {
      "text/html": [
       "<div>\n",
       "<style scoped>\n",
       "    .dataframe tbody tr th:only-of-type {\n",
       "        vertical-align: middle;\n",
       "    }\n",
       "\n",
       "    .dataframe tbody tr th {\n",
       "        vertical-align: top;\n",
       "    }\n",
       "\n",
       "    .dataframe thead th {\n",
       "        text-align: right;\n",
       "    }\n",
       "</style>\n",
       "<table border=\"1\" class=\"dataframe\">\n",
       "  <thead>\n",
       "    <tr style=\"text-align: right;\">\n",
       "      <th></th>\n",
       "      <th>Grudnik</th>\n",
       "      <th>Dracena</th>\n",
       "      <th>Wężownica</th>\n",
       "      <th>Kaktus</th>\n",
       "      <th>Storczyk</th>\n",
       "      <th>Aloes</th>\n",
       "      <th>Monstera</th>\n",
       "      <th>Fiołek_afrykański</th>\n",
       "      <th>Mięta</th>\n",
       "      <th>Skrzydłokwiat</th>\n",
       "      <th>Paproć</th>\n",
       "      <th>Fikus</th>\n",
       "    </tr>\n",
       "  </thead>\n",
       "  <tbody>\n",
       "    <tr>\n",
       "      <th>0</th>\n",
       "      <td>Nie</td>\n",
       "      <td>Nie</td>\n",
       "      <td>Nie</td>\n",
       "      <td>Nie</td>\n",
       "      <td>Nie</td>\n",
       "      <td>Nie</td>\n",
       "      <td>Nie</td>\n",
       "      <td>Nie</td>\n",
       "      <td>Nie</td>\n",
       "      <td>Nie</td>\n",
       "      <td>Nie</td>\n",
       "      <td>Tak</td>\n",
       "    </tr>\n",
       "  </tbody>\n",
       "</table>\n",
       "</div>"
      ],
      "text/plain": [
       "  Grudnik Dracena Wężownica Kaktus Storczyk Aloes Monstera Fiołek_afrykański  \\\n",
       "0     Nie     Nie       Nie    Nie      Nie   Nie      Nie               Nie   \n",
       "\n",
       "  Mięta Skrzydłokwiat Paproć Fikus  \n",
       "0   Nie           Nie    Nie   Tak  "
      ]
     },
     "execution_count": 11,
     "metadata": {},
     "output_type": "execute_result"
    }
   ],
   "source": [
    "y[['Grudnik', 'Dracena', 'Wężownica', 'Kaktus', 'Storczyk', 'Aloes', 'Monstera', 'Fiołek_afrykański', 'Mięta', 'Skrzydłokwiat', 'Paproć', 'Fikus']]"
   ]
  },
  {
   "cell_type": "code",
   "execution_count": 12,
   "id": "homeless-cream",
   "metadata": {},
   "outputs": [
    {
     "data": {
      "text/plain": [
       "0    Mało\n",
       "Name: Dużo_nawożenia, dtype: object"
      ]
     },
     "execution_count": 12,
     "metadata": {},
     "output_type": "execute_result"
    }
   ],
   "source": [
    "y['Dużo_nawożenia']"
   ]
  },
  {
   "cell_type": "code",
   "execution_count": 13,
   "id": "productive-winner",
   "metadata": {},
   "outputs": [
    {
     "data": {
      "application/vnd.jupyter.widget-view+json": {
       "model_id": "0b2e8440374c4e449b1f054dd0ffdcf4",
       "version_major": 2,
       "version_minor": 0
      },
      "text/plain": [
       "HBox(children=(HTML(value=''), FloatProgress(value=0.0, max=39.0), HTML(value='')))"
      ]
     },
     "metadata": {},
     "output_type": "display_data"
    },
    {
     "name": "stdout",
     "output_type": "stream",
     "text": [
      "\n"
     ]
    }
   ],
   "source": [
    "df = model.simulate(1000)\n"
   ]
  },
  {
   "cell_type": "code",
   "execution_count": 14,
   "id": "adaptive-exhibit",
   "metadata": {},
   "outputs": [
    {
     "data": {
      "text/html": [
       "<div>\n",
       "<style scoped>\n",
       "    .dataframe tbody tr th:only-of-type {\n",
       "        vertical-align: middle;\n",
       "    }\n",
       "\n",
       "    .dataframe tbody tr th {\n",
       "        vertical-align: top;\n",
       "    }\n",
       "\n",
       "    .dataframe thead th {\n",
       "        text-align: right;\n",
       "    }\n",
       "</style>\n",
       "<table border=\"1\" class=\"dataframe\">\n",
       "  <thead>\n",
       "    <tr style=\"text-align: right;\">\n",
       "      <th></th>\n",
       "      <th>Jestem_obowiązkowy</th>\n",
       "      <th>Mam_nawilżacz_powietrza</th>\n",
       "      <th>Duże_nawodnienie</th>\n",
       "      <th>Kaktus</th>\n",
       "      <th>Kwitnienie</th>\n",
       "      <th>Lubię_babrać_się_w_ziemi</th>\n",
       "      <th>Lubię_naturalną_pielęgnację_ciała</th>\n",
       "      <th>Kwiatek_na_podłodze</th>\n",
       "      <th>Dużo_nawożenia</th>\n",
       "      <th>Grudnik</th>\n",
       "      <th>...</th>\n",
       "      <th>Mam_dziecko</th>\n",
       "      <th>Strona_okna</th>\n",
       "      <th>W_domu_jest_wysoka_wilgotność</th>\n",
       "      <th>Mam_dużo_czasu</th>\n",
       "      <th>Kwiatek_na_parapecie</th>\n",
       "      <th>Mięta</th>\n",
       "      <th>Częste_przesadzanie</th>\n",
       "      <th>Mam_zwierzę_wolnochodzące</th>\n",
       "      <th>Użytkowa</th>\n",
       "      <th>Storczyk</th>\n",
       "    </tr>\n",
       "  </thead>\n",
       "  <tbody>\n",
       "    <tr>\n",
       "      <th>224</th>\n",
       "      <td>Nie</td>\n",
       "      <td>Nie</td>\n",
       "      <td>Nie</td>\n",
       "      <td>Nie</td>\n",
       "      <td>Sezonowe</td>\n",
       "      <td>Tak</td>\n",
       "      <td>Nie</td>\n",
       "      <td>Nie</td>\n",
       "      <td>Mało</td>\n",
       "      <td>Tak</td>\n",
       "      <td>...</td>\n",
       "      <td>Nie</td>\n",
       "      <td>Wschód</td>\n",
       "      <td>Nie</td>\n",
       "      <td>Nie</td>\n",
       "      <td>Tak</td>\n",
       "      <td>Nie</td>\n",
       "      <td>Nie</td>\n",
       "      <td>Tak</td>\n",
       "      <td>Nie</td>\n",
       "      <td>Nie</td>\n",
       "    </tr>\n",
       "    <tr>\n",
       "      <th>785</th>\n",
       "      <td>Tak</td>\n",
       "      <td>Tak</td>\n",
       "      <td>Nie</td>\n",
       "      <td>Nie</td>\n",
       "      <td>Sezonowe</td>\n",
       "      <td>Nie</td>\n",
       "      <td>Nie</td>\n",
       "      <td>Nie</td>\n",
       "      <td>Mało</td>\n",
       "      <td>Tak</td>\n",
       "      <td>...</td>\n",
       "      <td>Tak</td>\n",
       "      <td>Zachód</td>\n",
       "      <td>Nie</td>\n",
       "      <td>Nie</td>\n",
       "      <td>Nie</td>\n",
       "      <td>Nie</td>\n",
       "      <td>Nie</td>\n",
       "      <td>Nie</td>\n",
       "      <td>Nie</td>\n",
       "      <td>Nie</td>\n",
       "    </tr>\n",
       "  </tbody>\n",
       "</table>\n",
       "<p>2 rows × 39 columns</p>\n",
       "</div>"
      ],
      "text/plain": [
       "    Jestem_obowiązkowy Mam_nawilżacz_powietrza Duże_nawodnienie Kaktus  \\\n",
       "224                Nie                     Nie              Nie    Nie   \n",
       "785                Tak                     Tak              Nie    Nie   \n",
       "\n",
       "    Kwitnienie Lubię_babrać_się_w_ziemi Lubię_naturalną_pielęgnację_ciała  \\\n",
       "224   Sezonowe                      Tak                               Nie   \n",
       "785   Sezonowe                      Nie                               Nie   \n",
       "\n",
       "    Kwiatek_na_podłodze Dużo_nawożenia Grudnik  ... Mam_dziecko Strona_okna  \\\n",
       "224                 Nie           Mało     Tak  ...         Nie      Wschód   \n",
       "785                 Nie           Mało     Tak  ...         Tak      Zachód   \n",
       "\n",
       "    W_domu_jest_wysoka_wilgotność Mam_dużo_czasu Kwiatek_na_parapecie Mięta  \\\n",
       "224                           Nie            Nie                  Tak   Nie   \n",
       "785                           Nie            Nie                  Nie   Nie   \n",
       "\n",
       "    Częste_przesadzanie Mam_zwierzę_wolnochodzące Użytkowa Storczyk  \n",
       "224                 Nie                       Tak      Nie      Nie  \n",
       "785                 Nie                       Nie      Nie      Nie  \n",
       "\n",
       "[2 rows x 39 columns]"
      ]
     },
     "execution_count": 14,
     "metadata": {},
     "output_type": "execute_result"
    }
   ],
   "source": [
    "df[df['Grudnik'] == 'Tak']"
   ]
  },
  {
   "cell_type": "code",
   "execution_count": 43,
   "id": "regulated-carter",
   "metadata": {},
   "outputs": [
    {
     "data": {
      "text/plain": [
       "W_domu_jest_wysoka_wilgotność             Nie\n",
       "Lubię_naturalną_pielęgnację_ciała         Tak\n",
       "Grudnik                                   Tak\n",
       "Aloes                                     Nie\n",
       "Kwiatek_na_balkonie                       Nie\n",
       "Strona_okna                            Północ\n",
       "Mam_nawilżacz_powietrza                   Nie\n",
       "Kwitnienie                           Sezonowe\n",
       "Roślinka_ma_być_jadalna                   Nie\n",
       "wężownica                                 Nie\n",
       "Kwiatek_na_podłodze                       Tak\n",
       "Kwiatek_na_parapecie                      Nie\n",
       "Dużo_nawożenia                           Mało\n",
       "Paproć                                    Nie\n",
       "skrzydłokwiat                             Nie\n",
       "Ulubione_kolory                        Różowy\n",
       "Duże_nasłonecznienie                      Nie\n",
       "Duże_nawodnienie                          Nie\n",
       "Trująca                                   Nie\n",
       "Mam_dużo_czasu                            Nie\n",
       "Mięta                                     Nie\n",
       "Dracena                                   Nie\n",
       "Jestem_alergikiem                         Tak\n",
       "Mam_dziecko                               Tak\n",
       "Fikus                                     Nie\n",
       "Lubię_babrać_się_w_ziemi                  Nie\n",
       "Częste_przesadzanie                       Nie\n",
       "Jestem_obowiązkowy                        Nie\n",
       "Użytkowa                                  Nie\n",
       "Mam_zwierzę_wolnochodzące                 Nie\n",
       "Monstera                                  Nie\n",
       "Fiołek_afrykański                         Nie\n",
       "Storczyk                                  Nie\n",
       "Duża_roślinka                            Mała\n",
       "Mam_miejsce_na_przesadzanie               Tak\n",
       "Kaktus                                    Nie\n",
       "Lubię_podlewać                            Nie\n",
       "Wysoka_wilgotność                       Niska\n",
       "Mam_balkon                                Tak\n",
       "Name: 316, dtype: object"
      ]
     },
     "execution_count": 43,
     "metadata": {},
     "output_type": "execute_result"
    }
   ],
   "source": [
    "df.loc[316]"
   ]
  },
  {
   "cell_type": "code",
   "execution_count": 15,
   "id": "center-compact",
   "metadata": {},
   "outputs": [],
   "source": [
    "infer = VariableElimination(model)"
   ]
  },
  {
   "cell_type": "code",
   "execution_count": null,
   "id": "headed-walnut",
   "metadata": {},
   "outputs": [],
   "source": [
    "# posterior_p = infer.query(variables=['Book'], evidence={'Genre': 'western', 'Language': 'polish', 'Length': 'Long', 'Format': 'paperback'})"
   ]
  },
  {
   "cell_type": "code",
   "execution_count": null,
   "id": "sensitive-psychology",
   "metadata": {},
   "outputs": [],
   "source": [
    "# independencies = model.get_independencies()"
   ]
  },
  {
   "cell_type": "code",
   "execution_count": null,
   "id": "recreational-forty",
   "metadata": {},
   "outputs": [],
   "source": [
    "# independencies"
   ]
  },
  {
   "cell_type": "code",
   "execution_count": 23,
   "id": "specialized-rhythm",
   "metadata": {},
   "outputs": [],
   "source": [
    "quests = {key: val[0] for key, val in f_quests.items()}"
   ]
  },
  {
   "cell_type": "code",
   "execution_count": 26,
   "id": "understood-patrol",
   "metadata": {},
   "outputs": [
    {
     "name": "stdout",
     "output_type": "stream",
     "text": [
      "\n"
     ]
    },
    {
     "data": {
      "application/vnd.jupyter.widget-view+json": {
       "model_id": "287ddc485b1d45eab6fa1ddbb7ee555a",
       "version_major": 2,
       "version_minor": 0
      },
      "text/plain": [
       "HBox(children=(HTML(value=''), FloatProgress(value=0.0, max=9.0), HTML(value='')))"
      ]
     },
     "metadata": {},
     "output_type": "display_data"
    },
    {
     "data": {
      "application/vnd.jupyter.widget-view+json": {
       "model_id": "dbca7a34b3cb4de39b04149fdbf8bcf8",
       "version_major": 2,
       "version_minor": 0
      },
      "text/plain": [
       "HBox(children=(HTML(value=''), FloatProgress(value=0.0, max=9.0), HTML(value='')))"
      ]
     },
     "metadata": {},
     "output_type": "display_data"
    },
    {
     "name": "stdout",
     "output_type": "stream",
     "text": [
      "\n",
      "+----------------+------------------+\n",
      "| Wężownica      |   phi(Wężownica) |\n",
      "+================+==================+\n",
      "| Wężownica(Tak) |           0.0000 |\n",
      "+----------------+------------------+\n",
      "| Wężownica(Nie) |           1.0000 |\n",
      "+----------------+------------------+\n",
      "\n"
     ]
    },
    {
     "data": {
      "application/vnd.jupyter.widget-view+json": {
       "model_id": "207eea3ff3824c5c9b26ac31b3c9a4a1",
       "version_major": 2,
       "version_minor": 0
      },
      "text/plain": [
       "HBox(children=(HTML(value=''), FloatProgress(value=0.0, max=9.0), HTML(value='')))"
      ]
     },
     "metadata": {},
     "output_type": "display_data"
    },
    {
     "data": {
      "application/vnd.jupyter.widget-view+json": {
       "model_id": "fc025207f6104e8aa4f3adee709d3f14",
       "version_major": 2,
       "version_minor": 0
      },
      "text/plain": [
       "HBox(children=(HTML(value=''), FloatProgress(value=0.0, max=9.0), HTML(value='')))"
      ]
     },
     "metadata": {},
     "output_type": "display_data"
    },
    {
     "name": "stdout",
     "output_type": "stream",
     "text": [
      "\n",
      "+-------------+---------------+\n",
      "| Kaktus      |   phi(Kaktus) |\n",
      "+=============+===============+\n",
      "| Kaktus(Tak) |        0.0000 |\n",
      "+-------------+---------------+\n",
      "| Kaktus(Nie) |        1.0000 |\n",
      "+-------------+---------------+\n",
      "\n"
     ]
    },
    {
     "data": {
      "application/vnd.jupyter.widget-view+json": {
       "model_id": "9f888735812f4d5ab68f4a17f6d0f38b",
       "version_major": 2,
       "version_minor": 0
      },
      "text/plain": [
       "HBox(children=(HTML(value=''), FloatProgress(value=0.0, max=8.0), HTML(value='')))"
      ]
     },
     "metadata": {},
     "output_type": "display_data"
    },
    {
     "data": {
      "application/vnd.jupyter.widget-view+json": {
       "model_id": "b36b70513ee14b649a5b75245b8af689",
       "version_major": 2,
       "version_minor": 0
      },
      "text/plain": [
       "HBox(children=(HTML(value=''), FloatProgress(value=0.0, max=8.0), HTML(value='')))"
      ]
     },
     "metadata": {},
     "output_type": "display_data"
    },
    {
     "name": "stdout",
     "output_type": "stream",
     "text": [
      "\n",
      "+--------------+----------------+\n",
      "| Grudnik      |   phi(Grudnik) |\n",
      "+==============+================+\n",
      "| Grudnik(Tak) |         0.0000 |\n",
      "+--------------+----------------+\n",
      "| Grudnik(Nie) |         1.0000 |\n",
      "+--------------+----------------+\n",
      "\n"
     ]
    },
    {
     "data": {
      "application/vnd.jupyter.widget-view+json": {
       "model_id": "8149ff8a0d68425ca4b78c36e3ba9647",
       "version_major": 2,
       "version_minor": 0
      },
      "text/plain": [
       "HBox(children=(HTML(value=''), FloatProgress(value=0.0, max=9.0), HTML(value='')))"
      ]
     },
     "metadata": {},
     "output_type": "display_data"
    },
    {
     "data": {
      "application/vnd.jupyter.widget-view+json": {
       "model_id": "1a0303f522024cfeaf3d56a1b75fce6e",
       "version_major": 2,
       "version_minor": 0
      },
      "text/plain": [
       "HBox(children=(HTML(value=''), FloatProgress(value=0.0, max=9.0), HTML(value='')))"
      ]
     },
     "metadata": {},
     "output_type": "display_data"
    },
    {
     "name": "stdout",
     "output_type": "stream",
     "text": [
      "\n",
      "+---------------+-----------------+\n",
      "| Storczyk      |   phi(Storczyk) |\n",
      "+===============+=================+\n",
      "| Storczyk(Tak) |          0.0000 |\n",
      "+---------------+-----------------+\n",
      "| Storczyk(Nie) |          1.0000 |\n",
      "+---------------+-----------------+\n",
      "\n"
     ]
    },
    {
     "data": {
      "application/vnd.jupyter.widget-view+json": {
       "model_id": "b6300dd475e6423cbd9cc3c6e06237af",
       "version_major": 2,
       "version_minor": 0
      },
      "text/plain": [
       "HBox(children=(HTML(value=''), FloatProgress(value=0.0, max=9.0), HTML(value='')))"
      ]
     },
     "metadata": {},
     "output_type": "display_data"
    },
    {
     "data": {
      "application/vnd.jupyter.widget-view+json": {
       "model_id": "47941e59f1c94e7dbc6c0af4970a42f6",
       "version_major": 2,
       "version_minor": 0
      },
      "text/plain": [
       "HBox(children=(HTML(value=''), FloatProgress(value=0.0, max=9.0), HTML(value='')))"
      ]
     },
     "metadata": {},
     "output_type": "display_data"
    },
    {
     "name": "stdout",
     "output_type": "stream",
     "text": [
      "\n",
      "+------------+--------------+\n",
      "| Aloes      |   phi(Aloes) |\n",
      "+============+==============+\n",
      "| Aloes(Tak) |       0.0000 |\n",
      "+------------+--------------+\n",
      "| Aloes(Nie) |       1.0000 |\n",
      "+------------+--------------+\n",
      "\n"
     ]
    },
    {
     "data": {
      "application/vnd.jupyter.widget-view+json": {
       "model_id": "a7bbabe132914e899cb4153d1da27a18",
       "version_major": 2,
       "version_minor": 0
      },
      "text/plain": [
       "HBox(children=(HTML(value=''), FloatProgress(value=0.0, max=9.0), HTML(value='')))"
      ]
     },
     "metadata": {},
     "output_type": "display_data"
    },
    {
     "data": {
      "application/vnd.jupyter.widget-view+json": {
       "model_id": "4624dd21430444e0950befa5d6071fff",
       "version_major": 2,
       "version_minor": 0
      },
      "text/plain": [
       "HBox(children=(HTML(value=''), FloatProgress(value=0.0, max=9.0), HTML(value='')))"
      ]
     },
     "metadata": {},
     "output_type": "display_data"
    },
    {
     "name": "stdout",
     "output_type": "stream",
     "text": [
      "\n",
      "+------------+--------------+\n",
      "| Mięta      |   phi(Mięta) |\n",
      "+============+==============+\n",
      "| Mięta(Tak) |       0.0000 |\n",
      "+------------+--------------+\n",
      "| Mięta(Nie) |       1.0000 |\n",
      "+------------+--------------+\n",
      "\n"
     ]
    },
    {
     "data": {
      "application/vnd.jupyter.widget-view+json": {
       "model_id": "5c4b33db559e46a691be560fda4d2dbf",
       "version_major": 2,
       "version_minor": 0
      },
      "text/plain": [
       "HBox(children=(HTML(value=''), FloatProgress(value=0.0, max=8.0), HTML(value='')))"
      ]
     },
     "metadata": {},
     "output_type": "display_data"
    },
    {
     "data": {
      "application/vnd.jupyter.widget-view+json": {
       "model_id": "7d3de00279b4419cbf12a89a6c570301",
       "version_major": 2,
       "version_minor": 0
      },
      "text/plain": [
       "HBox(children=(HTML(value=''), FloatProgress(value=0.0, max=8.0), HTML(value='')))"
      ]
     },
     "metadata": {},
     "output_type": "display_data"
    },
    {
     "name": "stdout",
     "output_type": "stream",
     "text": [
      "\n",
      "+--------------------+----------------------+\n",
      "| Skrzydłokwiat      |   phi(Skrzydłokwiat) |\n",
      "+====================+======================+\n",
      "| Skrzydłokwiat(Tak) |               0.0000 |\n",
      "+--------------------+----------------------+\n",
      "| Skrzydłokwiat(Nie) |               1.0000 |\n",
      "+--------------------+----------------------+\n",
      "\n"
     ]
    },
    {
     "data": {
      "application/vnd.jupyter.widget-view+json": {
       "model_id": "c87dd662a601439b9255c98dbd11884e",
       "version_major": 2,
       "version_minor": 0
      },
      "text/plain": [
       "HBox(children=(HTML(value=''), FloatProgress(value=0.0, max=8.0), HTML(value='')))"
      ]
     },
     "metadata": {},
     "output_type": "display_data"
    },
    {
     "data": {
      "application/vnd.jupyter.widget-view+json": {
       "model_id": "53e424dc08374782b8c4bce30c8a5617",
       "version_major": 2,
       "version_minor": 0
      },
      "text/plain": [
       "HBox(children=(HTML(value=''), FloatProgress(value=0.0, max=8.0), HTML(value='')))"
      ]
     },
     "metadata": {},
     "output_type": "display_data"
    },
    {
     "name": "stdout",
     "output_type": "stream",
     "text": [
      "\n",
      "+------------+--------------+\n",
      "| Fikus      |   phi(Fikus) |\n",
      "+============+==============+\n",
      "| Fikus(Tak) |       0.0998 |\n",
      "+------------+--------------+\n",
      "| Fikus(Nie) |       0.9002 |\n",
      "+------------+--------------+\n",
      "\n"
     ]
    },
    {
     "data": {
      "application/vnd.jupyter.widget-view+json": {
       "model_id": "3de1d7fbe8b546f88dbe4d6bc36e42f8",
       "version_major": 2,
       "version_minor": 0
      },
      "text/plain": [
       "HBox(children=(HTML(value=''), FloatProgress(value=0.0, max=9.0), HTML(value='')))"
      ]
     },
     "metadata": {},
     "output_type": "display_data"
    },
    {
     "data": {
      "application/vnd.jupyter.widget-view+json": {
       "model_id": "b0ef8c3dbb704ae68370e6838122982a",
       "version_major": 2,
       "version_minor": 0
      },
      "text/plain": [
       "HBox(children=(HTML(value=''), FloatProgress(value=0.0, max=9.0), HTML(value='')))"
      ]
     },
     "metadata": {},
     "output_type": "display_data"
    },
    {
     "name": "stdout",
     "output_type": "stream",
     "text": [
      "\n",
      "+------------------------+--------------------------+\n",
      "| Fiołek_afrykański      |   phi(Fiołek_afrykański) |\n",
      "+========================+==========================+\n",
      "| Fiołek_afrykański(Tak) |                   0.0000 |\n",
      "+------------------------+--------------------------+\n",
      "| Fiołek_afrykański(Nie) |                   1.0000 |\n",
      "+------------------------+--------------------------+\n",
      "\n"
     ]
    },
    {
     "data": {
      "application/vnd.jupyter.widget-view+json": {
       "model_id": "89c09dc3716f4322ab45ca6310e0d44f",
       "version_major": 2,
       "version_minor": 0
      },
      "text/plain": [
       "HBox(children=(HTML(value=''), FloatProgress(value=0.0, max=9.0), HTML(value='')))"
      ]
     },
     "metadata": {},
     "output_type": "display_data"
    },
    {
     "data": {
      "application/vnd.jupyter.widget-view+json": {
       "model_id": "10e12c4ed30c48fa99bd7544ae23648e",
       "version_major": 2,
       "version_minor": 0
      },
      "text/plain": [
       "HBox(children=(HTML(value=''), FloatProgress(value=0.0, max=9.0), HTML(value='')))"
      ]
     },
     "metadata": {},
     "output_type": "display_data"
    },
    {
     "name": "stdout",
     "output_type": "stream",
     "text": [
      "\n",
      "+--------------+----------------+\n",
      "| Dracena      |   phi(Dracena) |\n",
      "+==============+================+\n",
      "| Dracena(Tak) |         0.0000 |\n",
      "+--------------+----------------+\n",
      "| Dracena(Nie) |         1.0000 |\n",
      "+--------------+----------------+\n",
      "\n"
     ]
    },
    {
     "data": {
      "application/vnd.jupyter.widget-view+json": {
       "model_id": "00de48235c014383abd43a9e238c7f9c",
       "version_major": 2,
       "version_minor": 0
      },
      "text/plain": [
       "HBox(children=(HTML(value=''), FloatProgress(value=0.0, max=9.0), HTML(value='')))"
      ]
     },
     "metadata": {},
     "output_type": "display_data"
    },
    {
     "data": {
      "application/vnd.jupyter.widget-view+json": {
       "model_id": "117b75d3da014f649acda302864233f3",
       "version_major": 2,
       "version_minor": 0
      },
      "text/plain": [
       "HBox(children=(HTML(value=''), FloatProgress(value=0.0, max=9.0), HTML(value='')))"
      ]
     },
     "metadata": {},
     "output_type": "display_data"
    },
    {
     "name": "stdout",
     "output_type": "stream",
     "text": [
      "\n",
      "+-------------+---------------+\n",
      "| Paproć      |   phi(Paproć) |\n",
      "+=============+===============+\n",
      "| Paproć(Tak) |        0.0000 |\n",
      "+-------------+---------------+\n",
      "| Paproć(Nie) |        1.0000 |\n",
      "+-------------+---------------+\n",
      "\n"
     ]
    },
    {
     "data": {
      "application/vnd.jupyter.widget-view+json": {
       "model_id": "7bbafb5b5daa4a9dab472dcf3d2f15fd",
       "version_major": 2,
       "version_minor": 0
      },
      "text/plain": [
       "HBox(children=(HTML(value=''), FloatProgress(value=0.0, max=8.0), HTML(value='')))"
      ]
     },
     "metadata": {},
     "output_type": "display_data"
    },
    {
     "data": {
      "application/vnd.jupyter.widget-view+json": {
       "model_id": "744980ac9f3f48b7aeada76a09f84a4e",
       "version_major": 2,
       "version_minor": 0
      },
      "text/plain": [
       "HBox(children=(HTML(value=''), FloatProgress(value=0.0, max=8.0), HTML(value='')))"
      ]
     },
     "metadata": {},
     "output_type": "display_data"
    },
    {
     "name": "stdout",
     "output_type": "stream",
     "text": [
      "\n",
      "+---------------+-----------------+\n",
      "| Monstera      |   phi(Monstera) |\n",
      "+===============+=================+\n",
      "| Monstera(Tak) |          0.0000 |\n",
      "+---------------+-----------------+\n",
      "| Monstera(Nie) |          1.0000 |\n",
      "+---------------+-----------------+\n"
     ]
    }
   ],
   "source": [
    "infer = VariableElimination(model)\n",
    "posterior_p = infer.query(['Wężownica'], evidence=quests)\n",
    "print(posterior_p)\n",
    "posterior_p = infer.query(['Kaktus'], evidence=quests)\n",
    "print(posterior_p)\n",
    "posterior_p = infer.query(['Grudnik'], evidence=quests)\n",
    "print(posterior_p)\n",
    "posterior_p = infer.query(['Storczyk'], evidence=quests)\n",
    "print(posterior_p)\n",
    "posterior_p = infer.query(['Aloes'], evidence=quests)\n",
    "print(posterior_p)\n",
    "posterior_p = infer.query(['Mięta'], evidence=quests)\n",
    "print(posterior_p)\n",
    "posterior_p = infer.query(['Skrzydłokwiat'], evidence=quests)\n",
    "print(posterior_p)\n",
    "posterior_p = infer.query(['Fikus'], evidence=quests)\n",
    "print(posterior_p)\n",
    "posterior_p = infer.query(['Fiołek_afrykański'], evidence=quests)\n",
    "print(posterior_p)\n",
    "posterior_p = infer.query(['Dracena'], evidence=quests)\n",
    "print(posterior_p)\n",
    "posterior_p = infer.query(['Paproć'], evidence=quests)\n",
    "print(posterior_p)\n",
    "posterior_p = infer.query(['Monstera'], evidence=quests)\n",
    "print(posterior_p)"
   ]
  },
  {
   "cell_type": "code",
   "execution_count": null,
   "id": "operating-pattern",
   "metadata": {},
   "outputs": [],
   "source": []
  }
 ],
 "metadata": {
  "kernelspec": {
   "display_name": "Python 3",
   "language": "python",
   "name": "python3"
  },
  "language_info": {
   "codemirror_mode": {
    "name": "ipython",
    "version": 3
   },
   "file_extension": ".py",
   "mimetype": "text/x-python",
   "name": "python",
   "nbconvert_exporter": "python",
   "pygments_lexer": "ipython3",
   "version": "3.8.5"
  }
 },
 "nbformat": 4,
 "nbformat_minor": 5
}
