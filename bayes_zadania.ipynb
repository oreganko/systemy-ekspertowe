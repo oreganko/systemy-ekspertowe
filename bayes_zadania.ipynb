{
 "cells": [
  {
   "cell_type": "code",
   "execution_count": 1,
   "metadata": {
    "id": "Ag4l9SThAnUN"
   },
   "outputs": [
    {
     "name": "stdout",
     "output_type": "stream",
     "text": [
      "Collecting pomegranate\n",
      "  Downloading pomegranate-0.14.7.tar.gz (4.3 MB)\n",
      "\u001b[K     |████████████████████████████████| 4.3 MB 60 kB/s eta 0:00:014\n",
      "\u001b[?25h  Installing build dependencies ... \u001b[?25ldone\n",
      "\u001b[?25h  Getting requirements to build wheel ... \u001b[?25ldone\n",
      "\u001b[?25h    Preparing wheel metadata ... \u001b[?25ldone\n",
      "\u001b[?25hRequirement already satisfied: scipy>=0.17.0 in /home/oreganko/anaconda3/lib/python3.8/site-packages (from pomegranate) (1.5.2)\n",
      "Requirement already satisfied: pyyaml in /home/oreganko/anaconda3/lib/python3.8/site-packages (from pomegranate) (5.3.1)\n",
      "Collecting numpy>=1.20.0\n",
      "  Using cached numpy-1.21.4-cp38-cp38-manylinux_2_12_x86_64.manylinux2010_x86_64.whl (15.7 MB)\n",
      "Requirement already satisfied: joblib>=0.9.0b4 in /home/oreganko/anaconda3/lib/python3.8/site-packages (from pomegranate) (0.17.0)\n",
      "Requirement already satisfied: networkx>=2.4 in /home/oreganko/anaconda3/lib/python3.8/site-packages (from pomegranate) (2.5)\n",
      "Requirement already satisfied: decorator>=4.3.0 in /home/oreganko/.local/lib/python3.8/site-packages (from networkx>=2.4->pomegranate) (4.4.2)\n",
      "Building wheels for collected packages: pomegranate\n",
      "  Building wheel for pomegranate (PEP 517) ... \u001b[?25ldone\n",
      "\u001b[?25h  Created wheel for pomegranate: filename=pomegranate-0.14.7-cp38-cp38-linux_x86_64.whl size=22739503 sha256=95188dc9b3a8fb5f896111a149d8963ab545e5de6a93e0ed98e56b6eec3d8267\n",
      "  Stored in directory: /home/oreganko/.cache/pip/wheels/35/2b/52/d9cf641fadfa792524e780fdea5d6b6e4b22f638a50473f900\n",
      "Successfully built pomegranate\n",
      "Installing collected packages: numpy, pomegranate\n",
      "  Attempting uninstall: numpy\n",
      "    Found existing installation: numpy 1.19.2\n",
      "    Uninstalling numpy-1.19.2:\n",
      "      Successfully uninstalled numpy-1.19.2\n",
      "Successfully installed numpy-1.21.4 pomegranate-0.14.7\n"
     ]
    }
   ],
   "source": [
    "!pip install pomegranate"
   ]
  },
  {
   "cell_type": "code",
   "execution_count": 2,
   "metadata": {
    "id": "StJNBW8jAPBl"
   },
   "outputs": [],
   "source": [
    "#Import required packages\n",
    "import math\n",
    "from pomegranate import *\n",
    " \n",
    "# Initially the door selected by the guest is completely random\n",
    "guest =DiscreteDistribution( { 'A': 1./3, 'B': 1./3, 'C': 1./3 } )\n",
    " \n",
    "# The door containing the prize is also a random process\n",
    "prize =DiscreteDistribution( { 'A': 1./3, 'B': 1./3, 'C': 1./3 } )\n",
    " \n",
    "# The door Monty picks, depends on the choice of the guest and the prize door\n",
    "monty =ConditionalProbabilityTable(\n",
    "[[ 'A', 'A', 'A', 0.0 ],\n",
    "[ 'A', 'A', 'B', 0.5 ],\n",
    "[ 'A', 'A', 'C', 0.5 ],\n",
    "[ 'A', 'B', 'A', 0.0 ],\n",
    "[ 'A', 'B', 'B', 0.0 ],\n",
    "[ 'A', 'B', 'C', 1.0 ],\n",
    "[ 'A', 'C', 'A', 0.0 ],\n",
    "[ 'A', 'C', 'B', 1.0 ],\n",
    "[ 'A', 'C', 'C', 0.0 ],\n",
    "[ 'B', 'A', 'A', 0.0 ],\n",
    "[ 'B', 'A', 'B', 0.0 ],\n",
    "[ 'B', 'A', 'C', 1.0 ],\n",
    "[ 'B', 'B', 'A', 0.5 ],\n",
    "[ 'B', 'B', 'B', 0.0 ],\n",
    "[ 'B', 'B', 'C', 0.5 ],\n",
    "[ 'B', 'C', 'A', 1.0 ],\n",
    "[ 'B', 'C', 'B', 0.0 ],\n",
    "[ 'B', 'C', 'C', 0.0 ],\n",
    "[ 'C', 'A', 'A', 0.0 ],\n",
    "[ 'C', 'A', 'B', 1.0 ],\n",
    "[ 'C', 'A', 'C', 0.0 ],\n",
    "[ 'C', 'B', 'A', 1.0 ],\n",
    "[ 'C', 'B', 'B', 0.0 ],\n",
    "[ 'C', 'B', 'C', 0.0 ],\n",
    "[ 'C', 'C', 'A', 0.5 ],\n",
    "[ 'C', 'C', 'B', 0.5 ],\n",
    "[ 'C', 'C', 'C', 0.0 ]], [guest, prize] )\n",
    " \n",
    "d1 = State( guest, name=\"guest\" )\n",
    "d2 = State( prize, name=\"prize\" )\n",
    "d3 = State( monty, name=\"monty\" )\n",
    " \n",
    "#Building the Bayesian Network\n",
    "network = BayesianNetwork( \"Solving the Monty Hall Problem With Bayesian Networks\" )\n",
    "network.add_states(d1, d2, d3)\n",
    "network.add_edge(d1, d3)\n",
    "network.add_edge(d2, d3)\n",
    "network.bake()"
   ]
  },
  {
   "cell_type": "code",
   "execution_count": 3,
   "metadata": {
    "id": "eX_T-n9gAh_f"
   },
   "outputs": [
    {
     "name": "stdout",
     "output_type": "stream",
     "text": [
      "guesttAnprizet{\n",
      "    \"class\" : \"Distribution\",\n",
      "    \"dtype\" : \"str\",\n",
      "    \"name\" : \"DiscreteDistribution\",\n",
      "    \"parameters\" : [\n",
      "        {\n",
      "            \"A\" : 0.3333333333333333,\n",
      "            \"B\" : 0.3333333333333333,\n",
      "            \"C\" : 0.3333333333333333\n",
      "        }\n",
      "    ],\n",
      "    \"frozen\" : false\n",
      "}nmontyt{\n",
      "    \"class\" : \"Distribution\",\n",
      "    \"dtype\" : \"str\",\n",
      "    \"name\" : \"DiscreteDistribution\",\n",
      "    \"parameters\" : [\n",
      "        {\n",
      "            \"B\" : 0.49999999999999994,\n",
      "            \"C\" : 0.49999999999999994,\n",
      "            \"A\" : 0.0\n",
      "        }\n",
      "    ],\n",
      "    \"frozen\" : false\n",
      "}\n"
     ]
    }
   ],
   "source": [
    "beliefs = network.predict_proba({ 'guest' : 'A' })\n",
    "beliefs = map(str, beliefs)\n",
    "print(\"n\".join( \"{}t{}\".format( state.name, belief ) for state, belief in zip( network.states, beliefs ) ))"
   ]
  },
  {
   "cell_type": "code",
   "execution_count": 4,
   "metadata": {
    "id": "SWxCReHdAlwu"
   },
   "outputs": [
    {
     "name": "stdout",
     "output_type": "stream",
     "text": [
      "guesttAnprizet{\n",
      "    \"class\" : \"Distribution\",\n",
      "    \"dtype\" : \"str\",\n",
      "    \"name\" : \"DiscreteDistribution\",\n",
      "    \"parameters\" : [\n",
      "        {\n",
      "            \"A\" : 0.3333333333333334,\n",
      "            \"B\" : 0.0,\n",
      "            \"C\" : 0.6666666666666664\n",
      "        }\n",
      "    ],\n",
      "    \"frozen\" : false\n",
      "}nmontytB\n"
     ]
    }
   ],
   "source": [
    "beliefs = network.predict_proba({'guest' : 'A', 'monty' : 'B'})\n",
    "print(\"n\".join( \"{}t{}\".format( state.name, str(belief) ) for state, belief in zip( network.states, beliefs )))"
   ]
  },
  {
   "cell_type": "code",
   "execution_count": 5,
   "metadata": {
    "id": "Qv_KLDnoCGyH"
   },
   "outputs": [
    {
     "name": "stdout",
     "output_type": "stream",
     "text": [
      "Collecting pybbn\n",
      "  Downloading pybbn-3.2.1.tar.gz (35 kB)\n",
      "Requirement already satisfied: numpy in /home/oreganko/anaconda3/lib/python3.8/site-packages (from pybbn) (1.21.4)\n",
      "Requirement already satisfied: scipy in /home/oreganko/anaconda3/lib/python3.8/site-packages (from pybbn) (1.5.2)\n",
      "Requirement already satisfied: networkx in /home/oreganko/anaconda3/lib/python3.8/site-packages (from pybbn) (2.5)\n",
      "Requirement already satisfied: pandas in /home/oreganko/anaconda3/lib/python3.8/site-packages (from pybbn) (1.1.3)\n",
      "Requirement already satisfied: decorator>=4.3.0 in /home/oreganko/.local/lib/python3.8/site-packages (from networkx->pybbn) (4.4.2)\n",
      "Requirement already satisfied: pytz>=2017.2 in /home/oreganko/anaconda3/lib/python3.8/site-packages (from pandas->pybbn) (2020.1)\n",
      "Requirement already satisfied: python-dateutil>=2.7.3 in /home/oreganko/anaconda3/lib/python3.8/site-packages (from pandas->pybbn) (2.8.1)\n",
      "Requirement already satisfied: six>=1.5 in /home/oreganko/anaconda3/lib/python3.8/site-packages (from python-dateutil>=2.7.3->pandas->pybbn) (1.15.0)\n",
      "Building wheels for collected packages: pybbn\n",
      "  Building wheel for pybbn (setup.py) ... \u001b[?25ldone\n",
      "\u001b[?25h  Created wheel for pybbn: filename=pybbn-3.2.1-py3-none-any.whl size=39725 sha256=da6a2ee718d63f84fbd218666ae3ab21a70caa4014fe1ed7561b0f408aef3e92\n",
      "  Stored in directory: /home/oreganko/.cache/pip/wheels/06/80/2f/0e63fe5497b2917af3b7bdcbb142985ba4e5e5ef9a2c0b14b9\n",
      "Successfully built pybbn\n",
      "Installing collected packages: pybbn\n",
      "Successfully installed pybbn-3.2.1\n"
     ]
    }
   ],
   "source": [
    "!pip install pybbn"
   ]
  },
  {
   "cell_type": "code",
   "execution_count": 6,
   "metadata": {
    "id": "TOEe67_0JpnU"
   },
   "outputs": [],
   "source": [
    "from pybbn.causality.ace import Ace\n",
    "from pybbn.graph.dag import Bbn\n",
    "from pybbn.graph.edge import Edge, EdgeType\n",
    "from pybbn.graph.node import BbnNode\n",
    "from pybbn.graph.variable import Variable\n",
    "from pybbn.graph.jointree import EvidenceBuilder\n",
    "from pybbn.pptc.inferencecontroller import InferenceController"
   ]
  },
  {
   "cell_type": "code",
   "execution_count": 7,
   "metadata": {
    "id": "do_WWeLEJZJL"
   },
   "outputs": [],
   "source": [
    "\n",
    "# create a BBN\n",
    "contestant_probs =  [0.33, 0.33, 0.33]\n",
    "prize_probs = [0.33, 0.33, 0.33]\n",
    "host_probs = [0, 0.5, 0.5, #A, A \n",
    "                                                0, 0, 1, #A, B\n",
    "                                                0, 1, 0, #A, C \n",
    "                                                0, 0, 1, #B, A\n",
    "                                                0.5, 0, 0.5, #B, B\n",
    "                                                1, 0, 0, #B, C\n",
    "                                                0, 1, 0, #C, A\n",
    "                                                1, 0, 0, #C, B\n",
    "                                                0.5, 0.5, 0 #C, C\n",
    "                                                ]\n",
    "\n",
    "C = BbnNode(Variable(0, 'C', ['a', 'b', 'c']), contestant_probs)\n",
    "P = BbnNode(Variable(1, 'P', ['a', 'b', 'c']), prize_probs)\n",
    "H = BbnNode(Variable(2, 'H', ['a', 'b', 'c']), host_probs)\n",
    "\n",
    "bbn = Bbn() \\\n",
    "    .add_node(C) \\\n",
    "    .add_node(P) \\\n",
    "    .add_node(H) \\\n",
    "    .add_edge(Edge(C, H, EdgeType.DIRECTED)) \\\n",
    "    .add_edge(Edge(P, H, EdgeType.DIRECTED)) \n",
    "\n",
    "join_tree = InferenceController.apply(bbn)\n",
    "\n",
    "def evidence(ev, nod, cat, val):\n",
    "    ev = EvidenceBuilder() \\\n",
    "    .with_node(join_tree.get_bbn_node_by_name(nod)) \\\n",
    "    .with_evidence(cat, val) \\\n",
    "    .build()\n",
    "    join_tree.set_observation(ev)\n",
    "def print_probs():\n",
    "    for node in join_tree.get_bbn_nodes():\n",
    "        potential = join_tree.get_bbn_potential(node)\n",
    "        print(\"Node:\", node)\n",
    "        print(\"Values:\")\n",
    "        print(potential)\n",
    "        print('-----------------')"
   ]
  },
  {
   "cell_type": "code",
   "execution_count": 8,
   "metadata": {
    "id": "NluAJGICJqk8"
   },
   "outputs": [
    {
     "name": "stdout",
     "output_type": "stream",
     "text": [
      "Node: 1|P|a,b,c\n",
      "Values:\n",
      "1=a|0.33333\n",
      "1=b|0.33333\n",
      "1=c|0.33333\n",
      "-----------------\n",
      "Node: 2|H|a,b,c\n",
      "Values:\n",
      "2=a|0.00000\n",
      "2=b|0.50000\n",
      "2=c|0.50000\n",
      "-----------------\n",
      "Node: 0|C|a,b,c\n",
      "Values:\n",
      "0=a|1.00000\n",
      "0=b|0.00000\n",
      "0=c|0.00000\n",
      "-----------------\n"
     ]
    }
   ],
   "source": [
    "evidence('ev1', 'C', 'a', 1.0)\n",
    "print_probs()"
   ]
  },
  {
   "cell_type": "code",
   "execution_count": 9,
   "metadata": {
    "id": "MFq3BqMOW3K8"
   },
   "outputs": [
    {
     "name": "stdout",
     "output_type": "stream",
     "text": [
      "Node: 1|P|a,b,c\n",
      "Values:\n",
      "1=a|0.33333\n",
      "1=b|0.00000\n",
      "1=c|0.66667\n",
      "-----------------\n",
      "Node: 2|H|a,b,c\n",
      "Values:\n",
      "2=a|0.00000\n",
      "2=b|1.00000\n",
      "2=c|0.00000\n",
      "-----------------\n",
      "Node: 0|C|a,b,c\n",
      "Values:\n",
      "0=a|1.00000\n",
      "0=b|0.00000\n",
      "0=c|0.00000\n",
      "-----------------\n"
     ]
    }
   ],
   "source": [
    "evidence('ev2', 'H', 'b', 1.0)\n",
    "print_probs()"
   ]
  },
  {
   "cell_type": "code",
   "execution_count": 10,
   "metadata": {
    "id": "eg-M4fF9JtAC"
   },
   "outputs": [
    {
     "data": {
      "image/png": "[encoded data removed]",
      "text/plain": [
       "<Figure size 432x288 with 1 Axes>"
      ]
     },
     "metadata": {},
     "output_type": "display_data"
    }
   ],
   "source": [
    "import networkx as nx\n",
    "\n",
    "n, d = bbn.to_nx_graph()\n",
    "nx.draw(n, with_labels=True, labels=d, node_color='r', alpha=0.5)"
   ]
  },
  {
   "cell_type": "code",
   "execution_count": 11,
   "metadata": {
    "id": "3A2ADb2eND51"
   },
   "outputs": [
    {
     "name": "stdout",
     "output_type": "stream",
     "text": [
      "Collecting pgmpy\n",
      "  Downloading pgmpy-0.1.16-py3-none-any.whl (1.9 MB)\n",
      "\u001b[K     |████████████████████████████████| 1.9 MB 622 kB/s ta 0:00:019\n",
      "\u001b[?25hRequirement already satisfied: pandas in /home/oreganko/anaconda3/lib/python3.8/site-packages (from pgmpy) (1.1.3)\n",
      "Requirement already satisfied: torch in /home/oreganko/anaconda3/lib/python3.8/site-packages (from pgmpy) (1.10.0+cpu)\n",
      "Requirement already satisfied: tqdm in /home/oreganko/anaconda3/lib/python3.8/site-packages (from pgmpy) (4.50.2)\n",
      "Requirement already satisfied: scipy in /home/oreganko/anaconda3/lib/python3.8/site-packages (from pgmpy) (1.5.2)\n",
      "Requirement already satisfied: numpy in /home/oreganko/anaconda3/lib/python3.8/site-packages (from pgmpy) (1.21.4)\n",
      "Requirement already satisfied: pyparsing in /home/oreganko/.local/lib/python3.8/site-packages (from pgmpy) (2.4.7)\n",
      "Requirement already satisfied: networkx in /home/oreganko/anaconda3/lib/python3.8/site-packages (from pgmpy) (2.5)\n",
      "Requirement already satisfied: joblib in /home/oreganko/anaconda3/lib/python3.8/site-packages (from pgmpy) (0.17.0)\n",
      "Requirement already satisfied: scikit-learn in /home/oreganko/anaconda3/lib/python3.8/site-packages (from pgmpy) (0.23.2)\n",
      "Requirement already satisfied: statsmodels in /home/oreganko/anaconda3/lib/python3.8/site-packages (from pgmpy) (0.12.0)\n",
      "Requirement already satisfied: pytz>=2017.2 in /home/oreganko/anaconda3/lib/python3.8/site-packages (from pandas->pgmpy) (2020.1)\n",
      "Requirement already satisfied: python-dateutil>=2.7.3 in /home/oreganko/anaconda3/lib/python3.8/site-packages (from pandas->pgmpy) (2.8.1)\n",
      "Requirement already satisfied: typing-extensions in /home/oreganko/anaconda3/lib/python3.8/site-packages (from torch->pgmpy) (3.7.4.3)\n",
      "Requirement already satisfied: decorator>=4.3.0 in /home/oreganko/.local/lib/python3.8/site-packages (from networkx->pgmpy) (4.4.2)\n",
      "Requirement already satisfied: threadpoolctl>=2.0.0 in /home/oreganko/anaconda3/lib/python3.8/site-packages (from scikit-learn->pgmpy) (2.1.0)\n",
      "Requirement already satisfied: patsy>=0.5 in /home/oreganko/anaconda3/lib/python3.8/site-packages (from statsmodels->pgmpy) (0.5.1)\n",
      "Requirement already satisfied: six>=1.5 in /home/oreganko/anaconda3/lib/python3.8/site-packages (from python-dateutil>=2.7.3->pandas->pgmpy) (1.15.0)\n",
      "Installing collected packages: pgmpy\n",
      "Successfully installed pgmpy-0.1.16\n",
      "Collecting daft==0.1.2\n",
      "  Downloading daft-0.1.2-py3-none-any.whl (11 kB)\n",
      "Requirement already satisfied: numpy in /home/oreganko/anaconda3/lib/python3.8/site-packages (from daft==0.1.2) (1.21.4)\n",
      "Requirement already satisfied: setuptools in /home/oreganko/anaconda3/lib/python3.8/site-packages (from daft==0.1.2) (56.0.0)\n",
      "Requirement already satisfied: matplotlib in /home/oreganko/anaconda3/lib/python3.8/site-packages (from daft==0.1.2) (3.3.2)\n",
      "Requirement already satisfied: cycler>=0.10 in /home/oreganko/anaconda3/lib/python3.8/site-packages (from matplotlib->daft==0.1.2) (0.10.0)\n",
      "Requirement already satisfied: certifi>=2020.06.20 in /home/oreganko/anaconda3/lib/python3.8/site-packages (from matplotlib->daft==0.1.2) (2020.6.20)\n",
      "Requirement already satisfied: pyparsing!=2.0.4,!=2.1.2,!=2.1.6,>=2.0.3 in /home/oreganko/.local/lib/python3.8/site-packages (from matplotlib->daft==0.1.2) (2.4.7)\n",
      "Requirement already satisfied: python-dateutil>=2.1 in /home/oreganko/anaconda3/lib/python3.8/site-packages (from matplotlib->daft==0.1.2) (2.8.1)\n",
      "Requirement already satisfied: kiwisolver>=1.0.1 in /home/oreganko/anaconda3/lib/python3.8/site-packages (from matplotlib->daft==0.1.2) (1.3.0)\n",
      "Requirement already satisfied: pillow>=6.2.0 in /home/oreganko/anaconda3/lib/python3.8/site-packages (from matplotlib->daft==0.1.2) (8.0.1)\n",
      "Requirement already satisfied: six in /home/oreganko/anaconda3/lib/python3.8/site-packages (from cycler>=0.10->matplotlib->daft==0.1.2) (1.15.0)\n",
      "Installing collected packages: daft\n",
      "Successfully installed daft-0.1.2\n"
     ]
    }
   ],
   "source": [
    "!pip install pgmpy \n",
    "!pip install daft==0.1.2"
   ]
  },
  {
   "cell_type": "code",
   "execution_count": 29,
   "metadata": {
    "id": "HGTe7nUfKJVJ"
   },
   "outputs": [
    {
     "data": {
      "text/plain": [
       "[<TabularCPD representing P(C:3) at 0x7f1998d9daf0>,\n",
       " <TabularCPD representing P(P:3) at 0x7f199a9a0b80>,\n",
       " <TabularCPD representing P(H:3 | C:3, P:3) at 0x7f1998d9db50>]"
      ]
     },
     "execution_count": 29,
     "metadata": {},
     "output_type": "execute_result"
    }
   ],
   "source": [
    "from pgmpy.models import BayesianNetwork\n",
    "from pgmpy.factors.discrete import TabularCPD\n",
    "from pgmpy.base import DAG\n",
    "\n",
    "# Defining the network structure\n",
    "model = BayesianNetwork([('C', 'H'), ('P', 'H')])\n",
    "# model = DAG()\n",
    "# model.add_nodes_from(['C', 'H', 'P'])\n",
    "# model.add_edges_from([('C', 'H'), ('P', 'H')])\n",
    "\n",
    "# Defining the CPDs:\n",
    "cpd_c = TabularCPD('C', 3, [[0.33], [0.33], [0.33]])\n",
    "cpd_p = TabularCPD('P', 3, [[0.33], [0.33], [0.33]])\n",
    "cpd_h = TabularCPD('H', 3, [[0, 0, 0, 0, 0.5, 1, 0, 1, 0.5],\n",
    "                            [0.5, 0, 1, 0, 0, 0, 1, 0, 0.5],\n",
    "                            [0.5, 1, 0, 1, 0.5, 0, 0, 0, 0]],\n",
    "                  evidence=['C', 'P'], evidence_card=[3, 3], state_names={'C': ['a', 'b', 'c'], \n",
    "                                                                          'P': ['a', 'b', 'c'],\n",
    "                                                                          'H': ['a', 'b', 'c']})\n",
    "\n",
    "# Associating the CPDs with the network structure.\n",
    "model.add_cpds(cpd_c, cpd_p, cpd_h)\n",
    "\n",
    "# Some other methods\n",
    "model.get_cpds()"
   ]
  },
  {
   "cell_type": "code",
   "execution_count": 30,
   "metadata": {
    "id": "roaV969INDIk"
   },
   "outputs": [
    {
     "data": {
      "text/plain": [
       "<matplotlib.axes._axes.Axes at 0x7f1998d50940>"
      ]
     },
     "execution_count": 30,
     "metadata": {},
     "output_type": "execute_result"
    },
    {
     "data": {
      "image/png": "[encoded data removed]",
      "text/plain": [
       "<Figure size 124.724x137.88 with 1 Axes>"
      ]
     },
     "metadata": {},
     "output_type": "display_data"
    }
   ],
   "source": [
    "model.check_model()\n",
    "daft = model.to_daft()\n",
    "daft.render()"
   ]
  },
  {
   "cell_type": "code",
   "execution_count": 31,
   "metadata": {
    "id": "zYo6kb08NZIQ"
   },
   "outputs": [
    {
     "data": {
      "application/vnd.jupyter.widget-view+json": {
       "model_id": "8807be231476414692dbde787103c645",
       "version_major": 2,
       "version_minor": 0
      },
      "text/plain": [
       "HBox(children=(HTML(value=''), FloatProgress(value=1.0, bar_style='info', layout=Layout(width='20px'), max=1.0…"
      ]
     },
     "metadata": {},
     "output_type": "display_data"
    },
    {
     "name": "stdout",
     "output_type": "stream",
     "text": [
      "\n"
     ]
    },
    {
     "data": {
      "application/vnd.jupyter.widget-view+json": {
       "model_id": "49a29844c1ab4b17b2a00d64541c5fc8",
       "version_major": 2,
       "version_minor": 0
      },
      "text/plain": [
       "HBox(children=(HTML(value=''), FloatProgress(value=1.0, bar_style='info', layout=Layout(width='20px'), max=1.0…"
      ]
     },
     "metadata": {},
     "output_type": "display_data"
    },
    {
     "name": "stdout",
     "output_type": "stream",
     "text": [
      "\n",
      "+------+----------+\n",
      "| P    |   phi(P) |\n",
      "+======+==========+\n",
      "| P(0) |   0.0000 |\n",
      "+------+----------+\n",
      "| P(1) |   0.3333 |\n",
      "+------+----------+\n",
      "| P(2) |   0.6667 |\n",
      "+------+----------+\n"
     ]
    }
   ],
   "source": [
    "from pgmpy.inference import VariableElimination\n",
    "\n",
    "infer = VariableElimination(model)\n",
    "posterior_p = infer.query(['P'], evidence={'C': 1, 'H': 0})\n",
    "print(posterior_p)"
   ]
  },
  {
   "cell_type": "markdown",
   "metadata": {
    "id": "iVOny3C1ZJSc"
   },
   "source": [
    "# zadania \n",
    "\n",
    "1.   ulepszyć poprzedni przykład tak by w wyniku zamiast P(0) było P(a) itd.\n",
    "2.   zdealizować sieć z obrazka poniżej\n",
    "```\n",
    "pollution = [0.9], [0.1]\n",
    "smoker = [0.3], [0.7]\n",
    "cancer = [0.03, 0.05, 0.001, 0.02],[0.97, 0.95, 0.999, 0.98]\n",
    "xray = [0.9, 0.2], [0.1, 0.8]\n",
    "dyspnoea = [0.65, 0.3], [0.35, 0.7]\n",
    "```\n",
    "\n",
    "3. wypisać niezależności\n",
    "4. załadować gotową sieć z przykładu survey i sprawdzić prawdopodobieństwo wywołania o = self w przypadku r =small i a = young oraz T gdy plęć to mężczyzna i o = self\n",
    "\n",
    "\n",
    "\n",
    "\n",
    "\n"
   ]
  },
  {
   "cell_type": "markdown",
   "metadata": {
    "id": "leRunYOVZoE2"
   },
   "source": [
    "![obraz.png](data:image/png;base64,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)"
   ]
  },
  {
   "cell_type": "code",
   "execution_count": 43,
   "metadata": {},
   "outputs": [
    {
     "data": {
      "text/plain": [
       "[<TabularCPD representing P(POL:2) at 0x7f1998a95e20>,\n",
       " <TabularCPD representing P(SMOK:2) at 0x7f1998a95a60>,\n",
       " <TabularCPD representing P(CANC:2 | POL:2, SMOK:2) at 0x7f1998b07400>,\n",
       " <TabularCPD representing P(XRAY:2 | CANC:2) at 0x7f1998b07d30>,\n",
       " <TabularCPD representing P(DYSP:2 | CANC:2) at 0x7f1998a953d0>]"
      ]
     },
     "execution_count": 43,
     "metadata": {},
     "output_type": "execute_result"
    }
   ],
   "source": [
    "## Task 2\n",
    "from pgmpy.models import BayesianNetwork\n",
    "from pgmpy.factors.discrete import TabularCPD\n",
    "from pgmpy.base import DAG\n",
    "\n",
    "# Defining the network structure\n",
    "model = BayesianNetwork([('POL', 'CANC'), ('SMOK', 'CANC'), ('CANC', 'XRAY'), ('CANC', 'DYSP')])\n",
    "# model = DAG()\n",
    "# model.add_nodes_from(['C', 'H', 'P'])\n",
    "# model.add_edges_from([('C', 'H'), ('P', 'H')])\n",
    "\n",
    "# Defining the CPDs:\n",
    "cpd_pollution = TabularCPD('POL', 2, [[0.9], [0.1]])\n",
    "cpd_smoker = TabularCPD('SMOK', 2, [[0.3], [0.7]])\n",
    "cpd_xray = TabularCPD('XRAY', 2, [[0.9, 0.2], [0.1, 0.8]], evidence_card=[2], evidence=['CANC'])\n",
    "cpd_dysp = TabularCPD('DYSP', 2, [[0.65, 0.3], [0.35, 0.7]], evidence_card=[2], evidence=['CANC'])\n",
    "cpd_cancer = TabularCPD('CANC', 2, [[0.03, 0.05, 0.001, 0.02],[0.97, 0.95, 0.999, 0.98]],\n",
    "                  evidence=['POL', 'SMOK'], evidence_card=[2, 2], state_names={'POL': ['n', 't'], \n",
    "                                                                          'SMOK': ['n', 't'],\n",
    "                                                                          'CANC': ['n', 't']})\n",
    "\n",
    "\n",
    "# Associating the CPDs with the network structure.\n",
    "model.add_cpds(cpd_pollution, cpd_smoker, cpd_cancer, cpd_xray, cpd_dysp)\n",
    "\n",
    "# Some other methods\n",
    "model.get_cpds()"
   ]
  },
  {
   "cell_type": "code",
   "execution_count": 44,
   "metadata": {},
   "outputs": [
    {
     "data": {
      "text/plain": [
       "<matplotlib.axes._axes.Axes at 0x7f1998a80e20>"
      ]
     },
     "execution_count": 44,
     "metadata": {},
     "output_type": "execute_result"
    },
    {
     "data": {
      "image/png": "[encoded data removed]",
      "text/plain": [
       "<Figure size 142.243x147.521 with 1 Axes>"
      ]
     },
     "metadata": {},
     "output_type": "display_data"
    }
   ],
   "source": [
    "model.check_model()\n",
    "daft = model.to_daft()\n",
    "daft.render()"
   ]
  },
  {
   "cell_type": "code",
   "execution_count": 45,
   "metadata": {},
   "outputs": [
    {
     "data": {
      "application/vnd.jupyter.widget-view+json": {
       "model_id": "aab522d41dc24d94bbfd57b0cba3fd9e",
       "version_major": 2,
       "version_minor": 0
      },
      "text/plain": [
       "HBox(children=(HTML(value=''), FloatProgress(value=1.0, bar_style='info', layout=Layout(width='20px'), max=1.0…"
      ]
     },
     "metadata": {},
     "output_type": "display_data"
    },
    {
     "name": "stdout",
     "output_type": "stream",
     "text": [
      "\n"
     ]
    },
    {
     "data": {
      "application/vnd.jupyter.widget-view+json": {
       "model_id": "b8e8b073c8b1422d89275a3b3e3b1a7b",
       "version_major": 2,
       "version_minor": 0
      },
      "text/plain": [
       "HBox(children=(HTML(value=''), FloatProgress(value=1.0, bar_style='info', layout=Layout(width='20px'), max=1.0…"
      ]
     },
     "metadata": {},
     "output_type": "display_data"
    },
    {
     "name": "stdout",
     "output_type": "stream",
     "text": [
      "\n",
      "+---------+-------------+\n",
      "| CANC    |   phi(CANC) |\n",
      "+=========+=============+\n",
      "| CANC(n) |      0.0010 |\n",
      "+---------+-------------+\n",
      "| CANC(t) |      0.9990 |\n",
      "+---------+-------------+\n"
     ]
    }
   ],
   "source": [
    "from pgmpy.inference import VariableElimination\n",
    "\n",
    "infer = VariableElimination(model)\n",
    "posterior_p = infer.query(['CANC'], evidence={'POL': 1, 'SMOK': 0})\n",
    "print(posterior_p)"
   ]
  },
  {
   "cell_type": "code",
   "execution_count": 58,
   "metadata": {},
   "outputs": [],
   "source": [
    "independencies = model.get_independencies()"
   ]
  },
  {
   "cell_type": "code",
   "execution_count": 59,
   "metadata": {},
   "outputs": [
    {
     "data": {
      "text/plain": [
       "(SMOK ⟂ POL)\n",
       "(SMOK ⟂ DYSP, XRAY | CANC)\n",
       "(SMOK ⟂ XRAY, DYSP | POL, CANC)\n",
       "(SMOK ⟂ DYSP | CANC, XRAY)\n",
       "(SMOK ⟂ XRAY | CANC, DYSP)\n",
       "(SMOK ⟂ DYSP | POL, CANC, XRAY)\n",
       "(SMOK ⟂ XRAY | POL, CANC, DYSP)\n",
       "(XRAY ⟂ POL, SMOK, DYSP | CANC)\n",
       "(XRAY ⟂ SMOK, DYSP | POL, CANC)\n",
       "(XRAY ⟂ POL, DYSP | CANC, SMOK)\n",
       "(XRAY ⟂ POL, SMOK | CANC, DYSP)\n",
       "(XRAY ⟂ DYSP | POL, CANC, SMOK)\n",
       "(XRAY ⟂ SMOK | POL, CANC, DYSP)\n",
       "(XRAY ⟂ POL | CANC, SMOK, DYSP)\n",
       "(POL ⟂ SMOK)\n",
       "(POL ⟂ DYSP, XRAY | CANC)\n",
       "(POL ⟂ XRAY | CANC, DYSP)\n",
       "(POL ⟂ DYSP, XRAY | CANC, SMOK)\n",
       "(POL ⟂ DYSP | CANC, XRAY)\n",
       "(POL ⟂ XRAY | CANC, SMOK, DYSP)\n",
       "(POL ⟂ DYSP | CANC, SMOK, XRAY)\n",
       "(DYSP ⟂ POL, SMOK, XRAY | CANC)\n",
       "(DYSP ⟂ SMOK, XRAY | POL, CANC)\n",
       "(DYSP ⟂ POL, XRAY | CANC, SMOK)\n",
       "(DYSP ⟂ POL, SMOK | CANC, XRAY)\n",
       "(DYSP ⟂ XRAY | POL, CANC, SMOK)\n",
       "(DYSP ⟂ SMOK | POL, CANC, XRAY)\n",
       "(DYSP ⟂ POL | CANC, SMOK, XRAY)"
      ]
     },
     "execution_count": 59,
     "metadata": {},
     "output_type": "execute_result"
    }
   ],
   "source": [
    "independencies"
   ]
  },
  {
   "cell_type": "code",
   "execution_count": 61,
   "metadata": {},
   "outputs": [],
   "source": [
    "from pgmpy.utils import get_example_model\n",
    "model = get_example_model('survey')"
   ]
  },
  {
   "cell_type": "code",
   "execution_count": 62,
   "metadata": {},
   "outputs": [
    {
     "data": {
      "text/plain": [
       "<matplotlib.axes._axes.Axes at 0x7f199394b790>"
      ]
     },
     "execution_count": 62,
     "metadata": {},
     "output_type": "execute_result"
    },
    {
     "data": {
      "image/png": "[encoded data removed]",
      "text/plain": [
       "<Figure size 153.071x137.88 with 1 Axes>"
      ]
     },
     "metadata": {},
     "output_type": "display_data"
    }
   ],
   "source": [
    "model.check_model()\n",
    "daft = model.to_daft()\n",
    "daft.render()"
   ]
  },
  {
   "cell_type": "code",
   "execution_count": 64,
   "metadata": {},
   "outputs": [
    {
     "data": {
      "application/vnd.jupyter.widget-view+json": {
       "model_id": "0be32a76ba8c405696f2330b244f0f3e",
       "version_major": 2,
       "version_minor": 0
      },
      "text/plain": [
       "HBox(children=(HTML(value=''), FloatProgress(value=0.0, max=2.0), HTML(value='')))"
      ]
     },
     "metadata": {},
     "output_type": "display_data"
    },
    {
     "data": {
      "application/vnd.jupyter.widget-view+json": {
       "model_id": "3bf786e113f9451d8ac014f76aaf02bc",
       "version_major": 2,
       "version_minor": 0
      },
      "text/plain": [
       "HBox(children=(HTML(value=''), FloatProgress(value=0.0, max=2.0), HTML(value='')))"
      ]
     },
     "metadata": {},
     "output_type": "display_data"
    },
    {
     "name": "stdout",
     "output_type": "stream",
     "text": [
      "\n",
      "+---------+----------+\n",
      "| O       |   phi(O) |\n",
      "+=========+==========+\n",
      "| O(emp)  |   0.9500 |\n",
      "+---------+----------+\n",
      "| O(self) |   0.0500 |\n",
      "+---------+----------+\n"
     ]
    }
   ],
   "source": [
    "from pgmpy.inference import VariableElimination\n",
    "\n",
    "infer = VariableElimination(model)\n",
    "posterior_p = infer.query(['O'], evidence={'R':'small', 'A':'young'})\n",
    "print(posterior_p)"
   ]
  },
  {
   "cell_type": "code",
   "execution_count": 69,
   "metadata": {},
   "outputs": [
    {
     "data": {
      "application/vnd.jupyter.widget-view+json": {
       "model_id": "123edc5f0dd441818213735fab14032c",
       "version_major": 2,
       "version_minor": 0
      },
      "text/plain": [
       "HBox(children=(HTML(value=''), FloatProgress(value=0.0, max=3.0), HTML(value='')))"
      ]
     },
     "metadata": {},
     "output_type": "display_data"
    },
    {
     "data": {
      "application/vnd.jupyter.widget-view+json": {
       "model_id": "83e44cfc8fcc409ca738e8d2e1cba479",
       "version_major": 2,
       "version_minor": 0
      },
      "text/plain": [
       "HBox(children=(HTML(value=''), FloatProgress(value=0.0, max=3.0), HTML(value='')))"
      ]
     },
     "metadata": {},
     "output_type": "display_data"
    },
    {
     "name": "stdout",
     "output_type": "stream",
     "text": [
      "\n",
      "+----------+----------+\n",
      "| T        |   phi(T) |\n",
      "+==========+==========+\n",
      "| T(car)   |   0.6677 |\n",
      "+----------+----------+\n",
      "| T(train) |   0.2446 |\n",
      "+----------+----------+\n",
      "| T(other) |   0.0877 |\n",
      "+----------+----------+\n"
     ]
    }
   ],
   "source": [
    "\n",
    "infer = VariableElimination(model)\n",
    "posterior_p = infer.query(['T'], evidence={'S':'M', 'O':'self'})\n",
    "print(posterior_p)"
   ]
  },
  {
   "cell_type": "code",
   "execution_count": null,
   "metadata": {},
   "outputs": [],
   "source": []
  }
 ],
 "metadata": {
  "colab": {
   "collapsed_sections": [],
   "name": "bayes_zadania.ipynb",
   "provenance": []
  },
  "kernelspec": {
   "display_name": "Python 3",
   "language": "python",
   "name": "python3"
  },
  "language_info": {
   "codemirror_mode": {
    "name": "ipython",
    "version": 3
   },
   "file_extension": ".py",
   "mimetype": "text/x-python",
   "name": "python",
   "nbconvert_exporter": "python",
   "pygments_lexer": "ipython3",
   "version": "3.8.13"
  }
 },
 "nbformat": 4,
 "nbformat_minor": 1
}
